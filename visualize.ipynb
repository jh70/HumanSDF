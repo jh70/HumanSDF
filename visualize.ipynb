{
 "cells": [
  {
   "cell_type": "code",
   "execution_count": null,
   "metadata": {
    "vscode": {
     "languageId": "plaintext"
    }
   },
   "outputs": [],
   "source": [
    "import torch\n",
    "import open3d as o3d\n",
    "from models.pc_vae import PointCloudVAE\n",
    "\n",
    "def visualize_generation(model, sample_attrs, device):\n",
    "    model.eval()\n",
    "    with torch.no_grad():\n",
    "        generated_points = model.generate(torch.FloatTensor(sample_attrs).to(device))\n",
    "        points = generated_points[0].cpu().numpy()\n",
    "        \n",
    "        # Visualize using Open3D\n",
    "        pcd = o3d.geometry.PointCloud()\n",
    "        pcd.points = o3d.utility.Vector3dVector(points)\n",
    "        o3d.visualization.draw_geometries([pcd])\n"
   ]
  }
 ],
 "metadata": {
  "language_info": {
   "name": "python"
  }
 },
 "nbformat": 4,
 "nbformat_minor": 2
}
